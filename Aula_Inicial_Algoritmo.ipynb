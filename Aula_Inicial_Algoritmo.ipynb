{
  "nbformat": 4,
  "nbformat_minor": 0,
  "metadata": {
    "colab": {
      "provenance": [],
      "authorship_tag": "ABX9TyPec+34Ff+rMMC7YKRC6qBQ",
      "include_colab_link": true
    },
    "kernelspec": {
      "name": "python3",
      "display_name": "Python 3"
    },
    "language_info": {
      "name": "python"
    }
  },
  "cells": [
    {
      "cell_type": "markdown",
      "metadata": {
        "id": "view-in-github",
        "colab_type": "text"
      },
      "source": [
        "<a href=\"https://colab.research.google.com/github/DavidRodrigues001/Aulas-de-Programacao/blob/main/Aula_Inicial_Algoritmo.ipynb\" target=\"_parent\"><img src=\"https://colab.research.google.com/assets/colab-badge.svg\" alt=\"Open In Colab\"/></a>"
      ]
    },
    {
      "cell_type": "markdown",
      "source": [
        "Aula programação Variavel"
      ],
      "metadata": {
        "id": "hxjBnrDOMwpc"
      }
    },
    {
      "cell_type": "code",
      "execution_count": null,
      "metadata": {
        "colab": {
          "base_uri": "https://localhost:8080/"
        },
        "id": "jz_lrGQYMaOO",
        "outputId": "f6e7ee05-f04f-42b9-e0ab-edb6d6fa13d2"
      },
      "outputs": [
        {
          "output_type": "stream",
          "name": "stdout",
          "text": [
            "Ola, Pessoal\n",
            "18\n",
            "8 10\n"
          ]
        }
      ],
      "source": [
        "print(\"Ola, Pessoal\") #Imprimir texto\n",
        "print(8 + 10) #Imprimir operação\n",
        "print(8 , '10') #IComcatenando texto e número"
      ]
    },
    {
      "cell_type": "code",
      "source": [
        "#Sabendo que os opertadores matemáticos são\n",
        "# + - / *\n",
        "# Imprima um exemplo de cada operação."
      ],
      "metadata": {
        "id": "nsFuGyecOJv1"
      },
      "execution_count": null,
      "outputs": []
    },
    {
      "cell_type": "code",
      "source": [
        "print(8+10)\n",
        "print(8*10)\n",
        "print(8/10)\n",
        "print(8-10)"
      ],
      "metadata": {
        "colab": {
          "base_uri": "https://localhost:8080/"
        },
        "id": "kJOVHuUyOZCs",
        "outputId": "c4982fb8-6965-4fe9-db42-6fb21cae8437"
      },
      "execution_count": null,
      "outputs": [
        {
          "output_type": "stream",
          "name": "stdout",
          "text": [
            "18\n",
            "80\n",
            "0.8\n",
            "-2\n"
          ]
        }
      ]
    },
    {
      "cell_type": "code",
      "source": [
        "#Tipos de dados\n",
        "print(type(7)) #Tipos inteiros\n",
        "print(type(2.0))#Pontos flutuantes(ou float)\n",
        "print(type('Maçã'))#string(Cadeia de caracteres)\n",
        "print(type(5>20))#booleanos(bool)"
      ],
      "metadata": {
        "colab": {
          "base_uri": "https://localhost:8080/"
        },
        "id": "amENlE0fPP7c",
        "outputId": "33f42ce0-8e90-46a6-938d-174b175089c1"
      },
      "execution_count": null,
      "outputs": [
        {
          "output_type": "stream",
          "name": "stdout",
          "text": [
            "<class 'int'>\n",
            "<class 'float'>\n",
            "<class 'str'>\n",
            "<class 'bool'>\n"
          ]
        }
      ]
    },
    {
      "cell_type": "markdown",
      "source": [
        "## Variáveis"
      ],
      "metadata": {
        "id": "Q0ftOgHoS22D"
      }
    },
    {
      "cell_type": "code",
      "source": [
        "a = 42\n",
        "print(a)\n",
        "a = 35\n",
        "print(a)\n",
        "a = 'Tapioca' #Essa troca de tipo de dado, é devido a tipagem de python\n",
        "print(a)"
      ],
      "metadata": {
        "colab": {
          "base_uri": "https://localhost:8080/"
        },
        "id": "8o1lOdJYS8FC",
        "outputId": "67c24302-b9be-41f0-8485-a4332a0bba76"
      },
      "execution_count": null,
      "outputs": [
        {
          "output_type": "stream",
          "name": "stdout",
          "text": [
            "42\n",
            "35\n",
            "Tapioca\n"
          ]
        }
      ]
    },
    {
      "cell_type": "code",
      "source": [
        "a = 10\n",
        "b = 20\n",
        "#Fação as 4 operações matemática com a e b\n",
        "print(a + b)\n",
        "print(a * b)\n",
        "print(a - b)\n",
        "print(a / b)"
      ],
      "metadata": {
        "colab": {
          "base_uri": "https://localhost:8080/"
        },
        "id": "XP1uMganUPCr",
        "outputId": "297dc1e6-a9e8-4d75-8fa8-25a1e77a06e0"
      },
      "execution_count": null,
      "outputs": [
        {
          "output_type": "stream",
          "name": "stdout",
          "text": [
            "30\n",
            "200\n",
            "-10\n",
            "0.5\n"
          ]
        }
      ]
    },
    {
      "cell_type": "code",
      "source": [
        "a = 25\n",
        "b = 33\n",
        "c = 12\n",
        "\n",
        "\n",
        "\n",
        "print(a + b / c)\n",
        "print((a + b) /c )\n",
        "print(a + (b/c) )"
      ],
      "metadata": {
        "colab": {
          "base_uri": "https://localhost:8080/"
        },
        "id": "adWb2QqRVfnh",
        "outputId": "b75c300a-5373-466c-ce2c-2077d3cf1562"
      },
      "execution_count": null,
      "outputs": [
        {
          "output_type": "stream",
          "name": "stdout",
          "text": [
            "27.75\n",
            "4.833333333333333\n",
            "27.75\n"
          ]
        }
      ]
    },
    {
      "cell_type": "code",
      "source": [
        "#Crie  tres variaveis para receber as notas de um aluno\n",
        "# o algoritmo de ve retornar a média do aluno\n",
        "\n",
        "a=5\n",
        "b=7\n",
        "c=8\n",
        "\n",
        "M=(a+b+c)\n",
        "\n",
        "print(M)"
      ],
      "metadata": {
        "id": "Ab7k91MVWXll"
      },
      "execution_count": null,
      "outputs": []
    },
    {
      "cell_type": "code",
      "source": [
        "#Entrada de dados\n",
        "nome= input('Digite seu nome:')\n",
        "print('ola, '+ nome)"
      ],
      "metadata": {
        "id": "9vgpo4FZYBUJ"
      },
      "execution_count": null,
      "outputs": []
    },
    {
      "cell_type": "code",
      "source": [
        "#recebe idade e multiplica por 3\n",
        "idade= int(input('Digite sua idade: '))\n",
        "print(idade * 3)"
      ],
      "metadata": {
        "id": "YQ4UC0sKZBJG"
      },
      "execution_count": null,
      "outputs": []
    },
    {
      "cell_type": "code",
      "source": [
        "#Recebe um raio de um circulo e calcula sua área\n",
        "#área= pi vezes o raio ao quadrado\n",
        "raio= int(input('Digite o raio: '))\n",
        "area = 3.14 * (raio * raio)\n",
        "print(area)"
      ],
      "metadata": {
        "colab": {
          "base_uri": "https://localhost:8080/"
        },
        "id": "QgvxpTq6al8g",
        "outputId": "43cbf418-9436-439f-aba6-0b3467a7a080"
      },
      "execution_count": null,
      "outputs": [
        {
          "output_type": "stream",
          "name": "stdout",
          "text": [
            "Digite o raio: 5\n",
            "78.5\n"
          ]
        }
      ]
    },
    {
      "cell_type": "code",
      "source": [
        "#Refatoração\n",
        "import math\n",
        "raio= int(input('Digite o raio: '))\n",
        "area = math.pi *(raio ** 2)\n",
        "print(f\"{area:.2f}\")"
      ],
      "metadata": {
        "colab": {
          "base_uri": "https://localhost:8080/"
        },
        "id": "4TH-Yv4dcCo8",
        "outputId": "3af1adaa-f2c1-4851-ec79-fd2d1e41e37c"
      },
      "execution_count": null,
      "outputs": [
        {
          "output_type": "stream",
          "name": "stdout",
          "text": [
            "Digite o raio: 5\n",
            "78.54\n"
          ]
        }
      ]
    }
  ]
}