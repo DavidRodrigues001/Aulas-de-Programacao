{
  "nbformat": 4,
  "nbformat_minor": 0,
  "metadata": {
    "colab": {
      "provenance": [],
      "authorship_tag": "ABX9TyPcO/rGcL5atrWruDb0EF9J",
      "include_colab_link": true
    },
    "kernelspec": {
      "name": "python3",
      "display_name": "Python 3"
    },
    "language_info": {
      "name": "python"
    }
  },
  "cells": [
    {
      "cell_type": "markdown",
      "metadata": {
        "id": "view-in-github",
        "colab_type": "text"
      },
      "source": [
        "<a href=\"https://colab.research.google.com/github/DavidRodrigues001/Revis-o/blob/main/Revis%C3%A3o_e_Assunto_novo.ipynb\" target=\"_parent\"><img src=\"https://colab.research.google.com/assets/colab-badge.svg\" alt=\"Open In Colab\"/></a>"
      ]
    },
    {
      "cell_type": "markdown",
      "source": [
        "Revisão\n",
        "1- Peça ao usuário dois números do tipo float e execute as sequintes operações"
      ],
      "metadata": {
        "id": "OzdLtz8WF9Qh"
      }
    },
    {
      "cell_type": "code",
      "source": [
        "a=float(input('Digite um numero: '))\n",
        "b=float(input('Digite um numero: '))\n",
        "print(a*b)\n",
        "print(a/b)\n",
        "print(a+b)\n",
        "print(a-b)\n",
        "print(a%b)"
      ],
      "metadata": {
        "colab": {
          "base_uri": "https://localhost:8080/"
        },
        "id": "ugWt2XxnGBUg",
        "outputId": "f5064bd4-b815-437c-cc09-71d71f41e28e"
      },
      "execution_count": 23,
      "outputs": [
        {
          "output_type": "stream",
          "name": "stdout",
          "text": [
            "Digite um numero: 5\n",
            "Digite um numero: 8\n",
            "40.0\n",
            "0.625\n",
            "13.0\n",
            "-3.0\n",
            "5.0\n"
          ]
        }
      ]
    },
    {
      "cell_type": "markdown",
      "source": [
        "2- O usuário deve inserir o peso e a altura do usuário e o programa deve retomar o imc (índice de massa corpórea)"
      ],
      "metadata": {
        "id": "d-zM0ejNHPjv"
      }
    },
    {
      "cell_type": "code",
      "source": [
        "peso=float(input('Digite seu peso: '))\n",
        "altura=float(input('Digite sua altura: '))\n",
        "\n",
        "IMC= peso/altura**2\n",
        "#Dois Jeitos de fazer.\n",
        "#print(round(IMC. 2))\n",
        "print(f\"{IMC:.2f}\")"
      ],
      "metadata": {
        "colab": {
          "base_uri": "https://localhost:8080/"
        },
        "id": "y5lXTbhYHvBX",
        "outputId": "73788a48-9343-4215-e377-3b5f0c093bf0"
      },
      "execution_count": 24,
      "outputs": [
        {
          "output_type": "stream",
          "name": "stdout",
          "text": [
            "Digite seu peso: 80\n",
            "Digite sua altura: 1.80\n",
            "24.69\n"
          ]
        }
      ]
    },
    {
      "cell_type": "markdown",
      "source": [
        "3- O usuario deve inserir o nome, o nome da rua, o numero, o bairro, a cidade e o CEP e o programa deve printar tudo separadamente"
      ],
      "metadata": {
        "id": "9dSZj2ViNt9a"
      }
    },
    {
      "cell_type": "code",
      "source": [
        "nome=input('Digite o nome: ')\n",
        "rua= input('Nome da rua: ')\n",
        "numero=input('Número: ')\n",
        "bairro=input('Bairro: ')\n",
        "cidade=input('Cidade: ')\n",
        "CEP=input('CEP - apenas números: ')\n",
        "\n",
        "print(f\"{nome}, residente á rua {rua}, {numero}, {bairro}, {cidade}, {CEP}\")"
      ],
      "metadata": {
        "id": "26prl6_COm1z"
      },
      "execution_count": null,
      "outputs": []
    },
    {
      "cell_type": "markdown",
      "source": [
        "4-"
      ],
      "metadata": {
        "id": "M-xvjeEIP5zj"
      }
    },
    {
      "cell_type": "code",
      "source": [
        "TC= float(input('Coloque a temperatura em Celsius: '))\n",
        "\n",
        "TF=(TC * 9/5) + 32\n",
        "\n",
        "print(TF)"
      ],
      "metadata": {
        "colab": {
          "base_uri": "https://localhost:8080/"
        },
        "id": "ixkGhOvmP7BC",
        "outputId": "819ec994-b171-425f-fa5d-7bd1f2cfbd80"
      },
      "execution_count": 31,
      "outputs": [
        {
          "output_type": "stream",
          "name": "stdout",
          "text": [
            "Coloque a temperatura em Celsius: 32\n",
            "89.6\n"
          ]
        }
      ]
    },
    {
      "cell_type": "markdown",
      "source": [
        "FIM REVISÃO\n",
        "---------------"
      ],
      "metadata": {
        "id": "1r5a2QM-Xj0O"
      }
    },
    {
      "cell_type": "markdown",
      "source": [
        "Estrutura de Controle IF ELSE ELIF\n",
        "\n",
        "Uso Basico IF"
      ],
      "metadata": {
        "id": "53cXB6FRSTCp"
      }
    },
    {
      "cell_type": "code",
      "source": [
        "#recebe a idade do individuo e informa se ele e maior de idade\n",
        "\n",
        "idade=20\n",
        "if idade > 18:\n",
        "  print('E maior de idade')\n",
        "\n",
        ""
      ],
      "metadata": {
        "colab": {
          "base_uri": "https://localhost:8080/"
        },
        "id": "tdq-yoQcTYCJ",
        "outputId": "aec1fad6-01f9-494c-80a2-a10aa3f007b6"
      },
      "execution_count": 34,
      "outputs": [
        {
          "output_type": "stream",
          "name": "stdout",
          "text": [
            "E maior de idade\n"
          ]
        }
      ]
    },
    {
      "cell_type": "markdown",
      "source": [
        "Uso básico do IF e do ELSE"
      ],
      "metadata": {
        "id": "9Y38lKItUpLg"
      }
    },
    {
      "cell_type": "code",
      "source": [
        "#Recebe a idade do individuo e informa se é maior de idade, ou se é menor de idade\n",
        "\n",
        "idade=16\n",
        "if idade > 18:\n",
        "  print('É maior de idade')\n",
        "else:\n",
        "  print('É menor de idade')\n"
      ],
      "metadata": {
        "colab": {
          "base_uri": "https://localhost:8080/"
        },
        "id": "9tWluhVDUu9_",
        "outputId": "6e648912-4d8c-4d31-cf31-ca88b96797bf"
      },
      "execution_count": 33,
      "outputs": [
        {
          "output_type": "stream",
          "name": "stdout",
          "text": [
            "É menor de idade\n"
          ]
        }
      ]
    },
    {
      "cell_type": "markdown",
      "source": [
        "Trabalhe com Múltiplas condições ELIF"
      ],
      "metadata": {
        "id": "iRgLCGQ0VRrq"
      }
    },
    {
      "cell_type": "code",
      "source": [
        "#Recebe a idade do uduário e informe se é idoso (60+), meia idade (+35), adulto(+18), menor de idade(-18)\n",
        "\n",
        "idade= 25\n",
        "if idade >= 60:\n",
        "  print('É idoso!')\n",
        "elif idade >= 35:\n",
        "  print('Meia idade!')\n",
        "elif idade >= 18:\n",
        "  print('Adulto!')\n",
        "else:\n",
        "  print('Menor de idade!')\n",
        ""
      ],
      "metadata": {
        "colab": {
          "base_uri": "https://localhost:8080/"
        },
        "id": "vUcShGdBVnxy",
        "outputId": "753dbd64-8f9d-4135-b0d1-53e80f83c724"
      },
      "execution_count": 35,
      "outputs": [
        {
          "output_type": "stream",
          "name": "stdout",
          "text": [
            "Adulto!\n"
          ]
        }
      ]
    },
    {
      "cell_type": "markdown",
      "source": [
        "Exercicio\n",
        "\n",
        "Escreva um programa que peça ao usuario o valor total de uma compra e aplique um desconto baseado no valor R$\n",
        "\n",
        "* Compras até 100,00 - Sem desconto\n",
        "* Compras entre: 101,00 e 500 - Desconto de 10%\n",
        "* Compras entre: 501,00 e 1000,00 - Desconto de 20%\n",
        "* compras acima de 1000,00 - Desconto de 30%"
      ],
      "metadata": {
        "id": "JWPxSnOUY_M2"
      }
    },
    {
      "cell_type": "code",
      "source": [
        "valor= float(input('Digite o valor da Compra: '))\n",
        "if valor <= 100:\n",
        "  print('Não tem desconto!')\n",
        "elif valor <= 500:\n",
        "  print(valor*0.1)\n",
        "elif valor <= 1000:\n",
        "  print(valor*0.2)\n",
        "elif valor >=1000:\n",
        "  print(valor*0.3)\n"
      ],
      "metadata": {
        "colab": {
          "base_uri": "https://localhost:8080/"
        },
        "id": "28XURLtcXfZ-",
        "outputId": "aacde89c-a883-437a-edde-9019a19b05d0"
      },
      "execution_count": 40,
      "outputs": [
        {
          "output_type": "stream",
          "name": "stdout",
          "text": [
            "Digite o valor da Compra: 6000\n",
            "1800.0\n"
          ]
        }
      ]
    },
    {
      "cell_type": "markdown",
      "source": [
        "Estruturas aninhadas"
      ],
      "metadata": {
        "id": "jIMedDKueEyW"
      }
    },
    {
      "cell_type": "code",
      "source": [
        "#Pergunte a idade do usuário e se tem CNH, caso satisfaça as duas condições\n",
        "\n",
        "idade = 25\n",
        "temCNH = False\n",
        "if idade > 18:\n",
        "  if temCNH:\n",
        "   print('Pode dirigir')\n",
        "  else:\n",
        "    print('Sem abilitação não pode dirigir!')\n",
        "else:\n",
        "  print('Menor de idade não pode dirigir')"
      ],
      "metadata": {
        "colab": {
          "base_uri": "https://localhost:8080/"
        },
        "id": "c5mUlUvbeG_t",
        "outputId": "93041bdf-fb24-43c0-a15f-289f78f5fb1a"
      },
      "execution_count": 43,
      "outputs": [
        {
          "output_type": "stream",
          "name": "stdout",
          "text": [
            "Sem abilitação não pode dirigir!\n"
          ]
        }
      ]
    }
  ]
}